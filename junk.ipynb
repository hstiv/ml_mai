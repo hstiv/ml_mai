{
 "cells": [
  {
   "cell_type": "code",
   "execution_count": 1,
   "id": "56d252cd-9b79-4456-acf7-ca2a8bd96e60",
   "metadata": {},
   "outputs": [],
   "source": [
    "def xrange(x):\n",
    "    return iter(range(x))"
   ]
  },
  {
   "cell_type": "code",
   "execution_count": 2,
   "id": "f9856729-24c4-401e-8100-e522ee3d56e7",
   "metadata": {
    "tags": []
   },
   "outputs": [
    {
     "name": "stdout",
     "output_type": "stream",
     "text": [
      "[[0 0 1]\n",
      " [0 1 1]\n",
      " [1 0 1]\n",
      " [1 1 1]]\n",
      "[[0]\n",
      " [1]\n",
      " [1]\n",
      " [0]]\n"
     ]
    }
   ],
   "source": [
    "import numpy as np\n",
    "\n",
    "X = np.array([ [0,0,1],[0,1,1],[1,0,1],[1,1,1] ])\n",
    "y = np.array([[0,1,1,0]]).T\n",
    "syn0 = 2*np.random.random((3,4)) - 1\n",
    "syn1 = 2*np.random.random((4,1)) - 1\n",
    "for j in xrange(60000):\n",
    "    l1 = 1/(1+np.exp(-(np.dot(X,syn0))))\n",
    "    l2 = 1/(1+np.exp(-(np.dot(l1,syn1))))\n",
    "    l2_delta = (y - l2)*(l2*(1-l2))\n",
    "    l1_delta = l2_delta.dot(syn1.T) * (l1 * (1-l1))\n",
    "    syn1 += l1.T.dot(l2_delta)\n",
    "    syn0 += X.T.dot(l1_delta)\n",
    "    \n",
    "print(X)\n",
    "print(y)"
   ]
  },
  {
   "cell_type": "code",
   "execution_count": 3,
   "id": "46540c73-9ee6-4504-8d9a-b0bd5e16db1b",
   "metadata": {},
   "outputs": [
    {
     "name": "stdout",
     "output_type": "stream",
     "text": [
      "Выходные данные после тренировки:\n",
      "[[0.00072157]\n",
      " [0.00048099]\n",
      " [0.99959241]\n",
      " [0.99938852]]\n"
     ]
    }
   ],
   "source": [
    "# Сигмоида \n",
    "def sigmoid(x, deriv = False):\n",
    "    if(deriv == True):\n",
    "        return(sigmoid(x) * (1 - sigmoid(x)))\n",
    "    return(1 / (1 + np.exp(-x)))\n",
    "    \n",
    "# набор входных данных\n",
    "X = np.array([  [0, 0, 1],\n",
    "                [0, 1, 1],\n",
    "                [1, 0, 1],\n",
    "                [1, 1, 1] ])\n",
    "    \n",
    "# выходные данные            \n",
    "y = np.array([[0, 0, 1, 1]]).T\n",
    "\n",
    "# сделаем случайные числа более определёнными\n",
    "np.random.seed(1)\n",
    "\n",
    "# инициализируем веса случайным образом со средним 0\n",
    "syn0 = 2 * np.random.random((3, 1)) - 1\n",
    "\n",
    "for iter in xrange(10000):\n",
    "\n",
    "    # прямое распространение\n",
    "    l0 = X\n",
    "    l1 = sigmoid(np.dot(l0, syn0))\n",
    "\n",
    "    # насколько мы ошиблись?\n",
    "    l1_error = y - l1\n",
    "\n",
    "    # перемножим это с наклоном сигмоиды \n",
    "    # на основе значений в l1\n",
    "    l1_delta = l1_error * sigmoid(l1, True) # !!!\n",
    "\n",
    "    # обновим веса\n",
    "    syn0 += np.dot(l0.T, l1_delta) # !!!\n",
    "\n",
    "print(\"Выходные данные после тренировки:\")\n",
    "np.set_printoptions(suppress=True)\n",
    "print(l1)"
   ]
  },
  {
   "cell_type": "code",
   "execution_count": 4,
   "id": "89b1690b-5dbb-4d18-a0ca-84b99137f014",
   "metadata": {},
   "outputs": [
    {
     "name": "stdout",
     "output_type": "stream",
     "text": [
      "[[1 2 3]\n",
      " [3 2 1]]\n",
      "[[1 3]\n",
      " [2 2]\n",
      " [3 1]]\n"
     ]
    }
   ],
   "source": [
    "x = np.array([[1, 2, 3],\n",
    "             [3, 2, 1]])\n",
    "print(x)\n",
    "print(x.T) # Вспоминаем транспанирование :3\n"
   ]
  }
 ],
 "metadata": {
  "kernelspec": {
   "display_name": "Python 3 (ipykernel)",
   "language": "python",
   "name": "python3"
  },
  "language_info": {
   "codemirror_mode": {
    "name": "ipython",
    "version": 3
   },
   "file_extension": ".py",
   "mimetype": "text/x-python",
   "name": "python",
   "nbconvert_exporter": "python",
   "pygments_lexer": "ipython3",
   "version": "3.10.2"
  }
 },
 "nbformat": 4,
 "nbformat_minor": 5
}
