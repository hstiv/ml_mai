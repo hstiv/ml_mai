{
 "cells": [
  {
   "cell_type": "code",
   "execution_count": null,
   "id": "1c299576-e77c-4392-82a6-8f844d348b89",
   "metadata": {},
   "outputs": [],
   "source": [
    "import numpy as np\n",
    "from numpy import zeros\n",
    "\n",
    "def RandomMiniBatches(X, Y, MiniBatchSize):\n",
    "\n",
    "    m = X.shape[0]  \n",
    "    miniBatches = [] \n",
    "   \n",
    "    permutation = list(np.random.permutation(m))\n",
    "    shuffled_X = X[permutation, :]\n",
    "    shuffled_Y = Y[permutation, :].reshape((m,1))   # Справедливо для формы uptpur\n",
    "\n",
    "    num_minibatches = m // MiniBatchSize \n",
    "    for k in range(0, num_minibatches):\n",
    "        miniBatch_X = shuffled_X[k * MiniBatchSize:(k + 1) * MiniBatchSize,:]\n",
    "        miniBatch_Y = shuffled_Y[k * MiniBatchSize:(k + 1) * MiniBatchSize,:]\n",
    "        miniBatch = (miniBatch_X, miniBatch_Y)\n",
    "        miniBatches.append(miniBatch)\n",
    "    \n",
    "    #handeling last batch\n",
    "    if m % MiniBatchSize != 0:\n",
    "        # end = m - MiniBatchSize * m // MiniBatchSize\n",
    "        miniBatch_X = shuffled_X[num_minibatches * MiniBatchSize:, :]\n",
    "        miniBatch_Y = shuffled_Y[num_minibatches * MiniBatchSize:, :]\n",
    "\n",
    "        miniBatch = (miniBatch_X, miniBatch_Y)\n",
    "        miniBatches.append(miniBatch)\n",
    "    \n",
    "    return miniBatches "
   ]
  },
  {
   "cell_type": "code",
   "execution_count": null,
   "id": "dceb98a7-419f-4b96-b4c7-8113b8cee771",
   "metadata": {},
   "outputs": [],
   "source": [
    "def update_params_with_momentum(params, grads, v, beta, learning_rate):\n",
    "    \n",
    "    # grads имеет параметры dw и db из предыдущих\n",
    "    # параметров имеет параметры W и b, которые мы должны обновить\n",
    "    for l in range(len(params) // 2 ):\n",
    "\n",
    "        # ЗДЕСЬ МЫ ВЫЧИСЛЯЕМ СКОРОСТЬ\n",
    "        v[\"dW\" + str(l + 1)] = beta * v[\"dW\" + str(l + 1)] + (1 - beta) * grads['dW' + str(l + 1)]\n",
    "        v[\"db\" + str(l + 1)] = beta * v[\"db\" + str(l + 1)] + (1 - beta) * grads['db' + str(l + 1)]\n",
    "        \n",
    "        #updating params W and b\n",
    "        params[\"W\" + str(l + 1)] = params[\"W\" + str(l + 1)] - learning_rate * v[\"dW\" + str(l + 1)]\n",
    "        params[\"b\" + str(l + 1)] = params[\"b\" + str(l + 1)] - learning_rate * v[\"db\" + str(l + 1)]\n",
    "    return params"
   ]
  },
  {
   "cell_type": "code",
   "execution_count": null,
   "id": "9e672e2b-a540-4fc0-9b5c-d602253f49a6",
   "metadata": {},
   "outputs": [],
   "source": [
    "def model(X, Y, learning_rate, num_iter, hidden_size, keep_prob, optimizer):\n",
    "    L = len(hidden_size)\n",
    "    params = initilization(X.shape[1], hidden_size)\n",
    "    for i in range(1, num_iter):\n",
    "        MiniBatches = RandomMiniBatches(X, Y, 64)   # Генерация случайных минипакетов\n",
    "        p, q = MiniBatches[2]\n",
    "        for MiniBatch in MiniBatches:               # Зацикливаем минипакеты\n",
    "\n",
    "            (MiniBatch_X, MiniBatch_Y) = MiniBatch\n",
    "\n",
    "            cache, A = model_forward(MiniBatch_X, params, L, keep_prob)             #ПРЯМОЕ РАСПРОСТРАНЕНИЕ\n",
    "            cost = cost_f(A, MiniBatch_Y)                                           #СТОИМОСТЬ ФУНКЦИИ\n",
    "            grads = backward(MiniBatch_X, MiniBatch_Y, params, cache, L, keep_prob)  #ОБРАТНОЕ РАСПРОСТРАНЕНИЕ\n",
    "            params = update_params_with_momentum(params, grads, beta=0.9, learning_rate=learning_rate)\n",
    "    return params"
   ]
  }
 ],
 "metadata": {
  "kernelspec": {
   "display_name": "Python 3 (ipykernel)",
   "language": "python",
   "name": "python3"
  },
  "language_info": {
   "codemirror_mode": {
    "name": "ipython",
    "version": 3
   },
   "file_extension": ".py",
   "mimetype": "text/x-python",
   "name": "python",
   "nbconvert_exporter": "python",
   "pygments_lexer": "ipython3",
   "version": "3.10.2"
  }
 },
 "nbformat": 4,
 "nbformat_minor": 5
}
