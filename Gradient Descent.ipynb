{
 "cells": [
  {
   "cell_type": "code",
   "execution_count": 21,
   "id": "195bf19c-fc07-4bf5-be99-ec81616c78f3",
   "metadata": {},
   "outputs": [],
   "source": [
    "import numpy as np\n",
    "import matplotlib.pyplot as plt\n",
    "\n",
    "def my_GD(f, df, x0:np.ndarray, lr:float = 0.1, eps:float = 1e-06) -> np.ndarray:\n",
    "    res = [x0]\n",
    "    while True:\n",
    "        x0 = x0 - lr*df(x0)\n",
    "        res.append(x0)\n",
    "        if np.linalg.norm(df(x0)) < eps:\n",
    "            break\n",
    "    return np.array(res)"
   ]
  },
  {
   "cell_type": "code",
   "execution_count": 22,
   "id": "3f52af12-007f-4fc7-b012-73ee5920a917",
   "metadata": {},
   "outputs": [],
   "source": [
    "test_case = lambda x: x[0]**2 + x[1]**2, lambda x: np.array([2*x[0], 2*x[1]])"
   ]
  },
  {
   "cell_type": "code",
   "execution_count": 23,
   "id": "448fc43c-e1ae-477b-93ff-5f88872e411c",
   "metadata": {},
   "outputs": [],
   "source": [
    "path = my_GD(*test_case, np.array([100, 50]))"
   ]
  },
  {
   "cell_type": "code",
   "execution_count": 24,
   "id": "1955dea0-9bbf-4fb0-9c11-584ac650d58d",
   "metadata": {},
   "outputs": [
    {
     "ename": "NameError",
     "evalue": "name 'x' is not defined",
     "output_type": "error",
     "traceback": [
      "\u001b[1;31m---------------------------------------------------------------------------\u001b[0m",
      "\u001b[1;31mNameError\u001b[0m                                 Traceback (most recent call last)",
      "Input \u001b[1;32mIn [24]\u001b[0m, in \u001b[0;36m<cell line: 6>\u001b[1;34m()\u001b[0m\n\u001b[0;32m      4\u001b[0m plt\u001b[38;5;241m.\u001b[39mplot(path\u001b[38;5;241m.\u001b[39mT[\u001b[38;5;241m0\u001b[39m], path\u001b[38;5;241m.\u001b[39mT[\u001b[38;5;241m1\u001b[39m])\n\u001b[0;32m      5\u001b[0m plt\u001b[38;5;241m.\u001b[39mscatter(path\u001b[38;5;241m.\u001b[39mT[\u001b[38;5;241m0\u001b[39m], path\u001b[38;5;241m.\u001b[39mT[\u001b[38;5;241m1\u001b[39m])\n\u001b[1;32m----> 6\u001b[0m obj \u001b[38;5;241m=\u001b[39m \u001b[43mx\u001b[49m[\u001b[38;5;241m0\u001b[39m]\u001b[38;5;241m*\u001b[39m\u001b[38;5;241m*\u001b[39m\u001b[38;5;241m2\u001b[39m \u001b[38;5;241m+\u001b[39m x[\u001b[38;5;241m1\u001b[39m]\u001b[38;5;241m*\u001b[39m\u001b[38;5;241m*\u001b[39m\u001b[38;5;241m2\u001b[39m\n\u001b[0;32m      7\u001b[0m cg3 \u001b[38;5;241m=\u001b[39m ax\u001b[38;5;241m.\u001b[39mcontour(x[\u001b[38;5;241m0\u001b[39m], x[\u001b[38;5;241m1\u001b[39m], obj, [\u001b[38;5;241m0\u001b[39m], colors\u001b[38;5;241m=\u001b[39m\u001b[38;5;124m'\u001b[39m\u001b[38;5;124mblack\u001b[39m\u001b[38;5;124m'\u001b[39m)\n\u001b[0;32m      8\u001b[0m plt\u001b[38;5;241m.\u001b[39msetp(cg3\u001b[38;5;241m.\u001b[39mcollections, path_effects\u001b[38;5;241m=\u001b[39m[patheffects\u001b[38;5;241m.\u001b[39mwithTickedStroke(spacing\u001b[38;5;241m=\u001b[39m\u001b[38;5;241m7\u001b[39m)])\n",
      "\u001b[1;31mNameError\u001b[0m: name 'x' is not defined"
     ]
    },
    {
     "data": {
      "image/png": "[encoded data removed]",
      "text/plain": [
       "<Figure size 432x288 with 1 Axes>"
      ]
     },
     "metadata": {
      "needs_background": "light"
     },
     "output_type": "display_data"
    }
   ],
   "source": [
    "import matplotlib.patheffects as patheffects\n",
    "ax = plt.subplots()\n",
    "\n",
    "plt.plot(path.T[0], path.T[1])\n",
    "plt.scatter(path.T[0], path.T[1])\n",
    "obj = x[0]**2 + x[1]**2\n",
    "cg3 = ax.contour(x[0], x[1], obj, [0], colors='black')\n",
    "plt.setp(cg3.collections, path_effects=[patheffects.withTickedStroke(spacing=7)])\n",
    "plt.show()"
   ]
  }
 ],
 "metadata": {
  "kernelspec": {
   "display_name": "Python 3 (ipykernel)",
   "language": "python",
   "name": "python3"
  },
  "language_info": {
   "codemirror_mode": {
    "name": "ipython",
    "version": 3
   },
   "file_extension": ".py",
   "mimetype": "text/x-python",
   "name": "python",
   "nbconvert_exporter": "python",
   "pygments_lexer": "ipython3",
   "version": "3.10.2"
  }
 },
 "nbformat": 4,
 "nbformat_minor": 5
}
